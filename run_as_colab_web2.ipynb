{
 "cells": [
  {
   "cell_type": "markdown",
   "metadata": {},
   "source": [
    "# For users who don't have a GPU!"
   ]
  },
  {
   "cell_type": "code",
   "execution_count": null,
   "metadata": {},
   "outputs": [],
   "source": [
    "# Set up the environment.\n",
    "!git clone https://github.com/jrcorbillon/manga-image-translator\n",
    "%cd manga-image-translator/\n",
    "!python -m pip install -r requirements.txt\n",
    "!python -m pip install git+https://github.com/kodalli/pydensecrf.git\n",
    "\n",
    "!pip uninstall albumentations -y\n",
    "!pip install pydantic==2.4.2\n",
    "!pip install uvicorn==0.23.2\n",
    "!pip install fastapi==0.104.0\n",
    "!pip install starlette==0.27.0"
   ]
  },
  {
   "cell_type": "code",
   "execution_count": null,
   "metadata": {},
   "outputs": [],
   "source": [
    "# prepare .env file (optional)\n",
    "OPENAI_API_KEY = \"\"\n",
    "DEEPL_AUTH_KEY = \"\"\n",
    "YOUDAO_APP_KEY = \"\"\n",
    "YOUDAO_SECRET_KEY = \"\"\n",
    "CAIYUN_TOKEN = \"\"\n",
    "BAIDU_APP_ID = \"\"\n",
    "BAIDU_SECRET_KEY = \"\"\n",
    "\n",
    "\n",
    "import os\n",
    "with open(\".env\", \"w\") as f:\n",
    "    f.write(f\"OPENAI_API_KEY={OPENAI_API_KEY}\\n\")\n",
    "    f.write(f\"DEEPL_AUTH_KEY={DEEPL_AUTH_KEY}\\n\")\n",
    "    f.write(f\"YOUDAO_APP_KEY={YOUDAO_APP_KEY}\\n\")\n",
    "    f.write(f\"YOUDAO_SECRET_KEY={YOUDAO_SECRET_KEY}\\n\")\n",
    "    f.write(f\"CAIYUN_TOKEN={CAIYUN_TOKEN}\\n\")\n",
    "    f.write(f\"BAIDU_APP_ID={BAIDU_APP_ID}\\n\")\n",
    "    f.write(f\"BDAIDU_SECRET_KEY={BAIDU_SECRET_KEY}\\n\")\n",
    "    f.close()\n"
   ]
  },
  {
   "cell_type": "code",
   "execution_count": null,
   "metadata": {},
   "outputs": [],
   "source": [
    "!python -m manga_translator --verbose --mode gradio_plus --share"
   ]
  }
 ],
 "metadata": {
  "language_info": {
   "name": "python"
  },
  "orig_nbformat": 4
 },
 "nbformat": 4,
 "nbformat_minor": 2
}
